{
 "cells": [
  {
   "cell_type": "code",
   "execution_count": 0,
   "metadata": {
    "colab": {},
    "colab_type": "code",
    "id": "wKP2Z0l2KnmL"
   },
   "outputs": [],
   "source": [
    "import numpy as np\n",
    "import pandas as pd\n",
    "import matplotlib.pyplot as plt\n",
    "%matplotlib inline\n",
    "import seaborn as sns\n",
    "from sklearn import preprocessing\n",
    "from sklearn.preprocessing import StandardScaler\n",
    "from sklearn.linear_model import LinearRegression, Lasso, Ridge, ElasticNet\n",
    "from sklearn.pipeline import make_pipeline\n",
    "from sklearn.preprocessing import PolynomialFeatures\n",
    "from sklearn.model_selection import cross_val_score"
   ]
  },
  {
   "cell_type": "code",
   "execution_count": 0,
   "metadata": {
    "colab": {},
    "colab_type": "code",
    "id": "W0I7c5uQKuV7"
   },
   "outputs": [],
   "source": [
    "# !ls \"/content/drive/My Drive\"\n",
    "train_df = pd.read_csv('train.csv')\n",
    "test_df  = pd.read_csv('test.csv')"
   ]
  },
  {
   "cell_type": "code",
   "execution_count": 5,
   "metadata": {
    "colab": {
     "base_uri": "https://localhost:8080/",
     "height": 52
    },
    "colab_type": "code",
    "executionInfo": {
     "elapsed": 728,
     "status": "ok",
     "timestamp": 1544349218310,
     "user": {
      "displayName": "Bhavesh Bhatt",
      "photoUrl": "https://lh5.googleusercontent.com/-Dxy3HXzth_c/AAAAAAAAAAI/AAAAAAAAHvk/4kcnA5cyAC4/s64/photo.jpg",
      "userId": "01561702845917398436"
     },
     "user_tz": -330
    },
    "id": "YU3vN4ozKz-U",
    "outputId": "98771bf0-95bf-4419-c28e-4fce34018fd0"
   },
   "outputs": [
    {
     "name": "stdout",
     "output_type": "stream",
     "text": [
      "Number of rows in training dataset = 17775\n",
      "Number of columns in training dataset = 57\n"
     ]
    }
   ],
   "source": [
    "print (\"Number of rows in training dataset = {}\".format(train_df.shape[0]))\n",
    "print (\"Number of columns in training dataset = {}\".format(train_df.shape[1]))"
   ]
  },
  {
   "cell_type": "code",
   "execution_count": 6,
   "metadata": {
    "colab": {
     "base_uri": "https://localhost:8080/",
     "height": 52
    },
    "colab_type": "code",
    "executionInfo": {
     "elapsed": 1171,
     "status": "ok",
     "timestamp": 1544349219757,
     "user": {
      "displayName": "Bhavesh Bhatt",
      "photoUrl": "https://lh5.googleusercontent.com/-Dxy3HXzth_c/AAAAAAAAAAI/AAAAAAAAHvk/4kcnA5cyAC4/s64/photo.jpg",
      "userId": "01561702845917398436"
     },
     "user_tz": -330
    },
    "id": "GaEuS3vaLvYS",
    "outputId": "dd50ea36-eabf-41fe-8863-ef19539795ec"
   },
   "outputs": [
    {
     "name": "stdout",
     "output_type": "stream",
     "text": [
      "Number of rows in testing dataset = 7618\n",
      "Number of columns in testing dataset = 57\n"
     ]
    }
   ],
   "source": [
    "print (\"Number of rows in testing dataset = {}\".format(test_df.shape[0]))\n",
    "print (\"Number of columns in testing dataset = {}\".format(test_df.shape[1]))"
   ]
  },
  {
   "cell_type": "code",
   "execution_count": 7,
   "metadata": {
    "colab": {
     "base_uri": "https://localhost:8080/",
     "height": 1092
    },
    "colab_type": "code",
    "executionInfo": {
     "elapsed": 953,
     "status": "ok",
     "timestamp": 1544349228417,
     "user": {
      "displayName": "Bhavesh Bhatt",
      "photoUrl": "https://lh5.googleusercontent.com/-Dxy3HXzth_c/AAAAAAAAAAI/AAAAAAAAHvk/4kcnA5cyAC4/s64/photo.jpg",
      "userId": "01561702845917398436"
     },
     "user_tz": -330
    },
    "id": "0KE09JhxMv1P",
    "outputId": "ddc4d181-6ad9-4542-9b52-e8c39a6c0e52"
   },
   "outputs": [
    {
     "name": "stdout",
     "output_type": "stream",
     "text": [
      "<class 'pandas.core.frame.DataFrame'>\n",
      "RangeIndex: 17775 entries, 0 to 17774\n",
      "Data columns (total 57 columns):\n",
      "Unnamed: 0                        17775 non-null int64\n",
      "serial_number                     17775 non-null int64\n",
      "fund_symbol                       17775 non-null object\n",
      "fund_name                         17775 non-null object\n",
      "category                          17775 non-null object\n",
      "fund_family                       17775 non-null object\n",
      "investment                        16650 non-null object\n",
      "size                              16650 non-null object\n",
      "total_net_assets                  17775 non-null float64\n",
      "currency                          17775 non-null object\n",
      "net_annual_expenses               17763 non-null float64\n",
      "morningstar_rating                17775 non-null int64\n",
      "inception_date                    17775 non-null object\n",
      "portfolio_cash                    17770 non-null float64\n",
      "portfolio_stocks                  17770 non-null float64\n",
      "portfolio_bonds                   17770 non-null float64\n",
      "portfolio_others                  17770 non-null float64\n",
      "portfolio_preferred               17770 non-null float64\n",
      "portfolio_convertable             17770 non-null float64\n",
      "sectors_basic_materials           17770 non-null float64\n",
      "sectors_consumer_cyclical         17770 non-null float64\n",
      "sectors_financial_services        17770 non-null float64\n",
      "sectors_real_estate               17770 non-null float64\n",
      "sectors_consumer_defensive        17770 non-null float64\n",
      "sectors_healthcare                17770 non-null float64\n",
      "sectors_utilities                 17770 non-null float64\n",
      "sectors_communication_services    17770 non-null float64\n",
      "sectors_energy                    17770 non-null float64\n",
      "sectors_industrials               17770 non-null float64\n",
      "sectors_technology                17770 non-null float64\n",
      "price_earning                     17770 non-null float64\n",
      "bonds_us_government               17770 non-null float64\n",
      "bonds_aaa                         17770 non-null float64\n",
      "bonds_aa                          17770 non-null float64\n",
      "bonds_a                           17770 non-null float64\n",
      "bonds_bbb                         17770 non-null float64\n",
      "bonds_bb                          17770 non-null float64\n",
      "bonds_b                           17770 non-null float64\n",
      "bonds_below_b                     17770 non-null float64\n",
      "bonds_others                      17770 non-null float64\n",
      "morningstar_return_rating         17775 non-null int64\n",
      "returns_ytd                       17673 non-null float64\n",
      "returns_2017                      15852 non-null float64\n",
      "returns_2016                      14735 non-null float64\n",
      "returns_2015                      13471 non-null float64\n",
      "returns_2014                      12377 non-null float64\n",
      "returns_2013                      11376 non-null float64\n",
      "returns_2012                      10380 non-null float64\n",
      "returns_2011                      9630 non-null float64\n",
      "returns_2010                      8855 non-null float64\n",
      "morningstar_risk_rating           17775 non-null int64\n",
      "alpha_3y                          15927 non-null float64\n",
      "beta_3y                           15927 non-null float64\n",
      "mean_annual_return_3y             15927 non-null float64\n",
      "standard_deviation_3y             15927 non-null float64\n",
      "sharpe_ratio_3y                   15927 non-null float64\n",
      "treynor_ratio_3y                  15927 non-null float64\n",
      "dtypes: float64(44), int64(5), object(8)\n",
      "memory usage: 7.7+ MB\n"
     ]
    }
   ],
   "source": [
    "train_df.info()"
   ]
  },
  {
   "cell_type": "code",
   "execution_count": 0,
   "metadata": {
    "colab": {},
    "colab_type": "code",
    "id": "OYoVadagM1gF"
   },
   "outputs": [],
   "source": [
    "train_df = train_df[~train_df['bonds_aaa'].isnull()].reset_index()"
   ]
  },
  {
   "cell_type": "code",
   "execution_count": 9,
   "metadata": {
    "colab": {
     "base_uri": "https://localhost:8080/",
     "height": 302
    },
    "colab_type": "code",
    "executionInfo": {
     "elapsed": 1305,
     "status": "ok",
     "timestamp": 1544349233062,
     "user": {
      "displayName": "Bhavesh Bhatt",
      "photoUrl": "https://lh5.googleusercontent.com/-Dxy3HXzth_c/AAAAAAAAAAI/AAAAAAAAHvk/4kcnA5cyAC4/s64/photo.jpg",
      "userId": "01561702845917398436"
     },
     "user_tz": -330
    },
    "id": "-hp0FYQiNGdC",
    "outputId": "e42269a1-372a-4e35-9ce1-6c5caa64b5a3"
   },
   "outputs": [
    {
     "data": {
      "text/plain": [
       "<matplotlib.axes._subplots.AxesSubplot at 0x7fb1db9125c0>"
      ]
     },
     "execution_count": 9,
     "metadata": {
      "tags": []
     },
     "output_type": "execute_result"
    },
    {
     "data": {
      "image/png": "[encoded data removed]",
      "text/plain": [
       "<matplotlib.figure.Figure at 0x7fb1db912c88>"
      ]
     },
     "metadata": {
      "tags": []
     },
     "output_type": "display_data"
    }
   ],
   "source": [
    "sns.distplot(train_df['bonds_aaa'])"
   ]
  },
  {
   "cell_type": "code",
   "execution_count": 10,
   "metadata": {
    "colab": {
     "base_uri": "https://localhost:8080/",
     "height": 173
    },
    "colab_type": "code",
    "executionInfo": {
     "elapsed": 945,
     "status": "ok",
     "timestamp": 1544349235398,
     "user": {
      "displayName": "Bhavesh Bhatt",
      "photoUrl": "https://lh5.googleusercontent.com/-Dxy3HXzth_c/AAAAAAAAAAI/AAAAAAAAHvk/4kcnA5cyAC4/s64/photo.jpg",
      "userId": "01561702845917398436"
     },
     "user_tz": -330
    },
    "id": "qG4Vm51LPG-m",
    "outputId": "510179b0-0bf3-45db-b24d-a66c96014cc4"
   },
   "outputs": [
    {
     "data": {
      "text/plain": [
       "count    17770.000000\n",
       "mean        13.168192\n",
       "std         24.591146\n",
       "min         -7.600000\n",
       "25%          0.000000\n",
       "50%          0.000000\n",
       "75%         14.250000\n",
       "max        104.170000\n",
       "Name: bonds_aaa, dtype: float64"
      ]
     },
     "execution_count": 10,
     "metadata": {
      "tags": []
     },
     "output_type": "execute_result"
    }
   ],
   "source": [
    "train_df['bonds_aaa'].describe()"
   ]
  },
  {
   "cell_type": "code",
   "execution_count": 11,
   "metadata": {
    "colab": {
     "base_uri": "https://localhost:8080/",
     "height": 52
    },
    "colab_type": "code",
    "executionInfo": {
     "elapsed": 965,
     "status": "ok",
     "timestamp": 1544349237555,
     "user": {
      "displayName": "Bhavesh Bhatt",
      "photoUrl": "https://lh5.googleusercontent.com/-Dxy3HXzth_c/AAAAAAAAAAI/AAAAAAAAHvk/4kcnA5cyAC4/s64/photo.jpg",
      "userId": "01561702845917398436"
     },
     "user_tz": -330
    },
    "id": "QyOpj5oUPZLm",
    "outputId": "32e93df5-8a5c-42ac-f260-e3c3822f6975"
   },
   "outputs": [
    {
     "name": "stdout",
     "output_type": "stream",
     "text": [
      "Skewness: 1.894421\n",
      "Kurtosis: 2.605314\n"
     ]
    }
   ],
   "source": [
    "#skewness and kurtosis\n",
    "print(\"Skewness: %f\" % train_df['bonds_aaa'].skew())\n",
    "print(\"Kurtosis: %f\" % train_df['bonds_aaa'].kurt())"
   ]
  },
  {
   "cell_type": "code",
   "execution_count": 12,
   "metadata": {
    "colab": {
     "base_uri": "https://localhost:8080/",
     "height": 511
    },
    "colab_type": "code",
    "executionInfo": {
     "elapsed": 638,
     "status": "ok",
     "timestamp": 1544349238143,
     "user": {
      "displayName": "Bhavesh Bhatt",
      "photoUrl": "https://lh5.googleusercontent.com/-Dxy3HXzth_c/AAAAAAAAAAI/AAAAAAAAHvk/4kcnA5cyAC4/s64/photo.jpg",
      "userId": "01561702845917398436"
     },
     "user_tz": -330
    },
    "id": "15vu0Gq-NnDU",
    "outputId": "d7e0afbb-772c-44c8-d33b-726c78ac4910"
   },
   "outputs": [
    {
     "data": {
      "text/html": [
       "<div>\n",
       "<style scoped>\n",
       "    .dataframe tbody tr th:only-of-type {\n",
       "        vertical-align: middle;\n",
       "    }\n",
       "\n",
       "    .dataframe tbody tr th {\n",
       "        vertical-align: top;\n",
       "    }\n",
       "\n",
       "    .dataframe thead th {\n",
       "        text-align: right;\n",
       "    }\n",
       "</style>\n",
       "<table border=\"1\" class=\"dataframe\">\n",
       "  <thead>\n",
       "    <tr style=\"text-align: right;\">\n",
       "      <th></th>\n",
       "      <th>index</th>\n",
       "      <th>Unnamed: 0</th>\n",
       "      <th>serial_number</th>\n",
       "      <th>fund_symbol</th>\n",
       "      <th>fund_name</th>\n",
       "      <th>category</th>\n",
       "      <th>fund_family</th>\n",
       "      <th>investment</th>\n",
       "      <th>size</th>\n",
       "      <th>total_net_assets</th>\n",
       "      <th>...</th>\n",
       "      <th>returns_2012</th>\n",
       "      <th>returns_2011</th>\n",
       "      <th>returns_2010</th>\n",
       "      <th>morningstar_risk_rating</th>\n",
       "      <th>alpha_3y</th>\n",
       "      <th>beta_3y</th>\n",
       "      <th>mean_annual_return_3y</th>\n",
       "      <th>standard_deviation_3y</th>\n",
       "      <th>sharpe_ratio_3y</th>\n",
       "      <th>treynor_ratio_3y</th>\n",
       "    </tr>\n",
       "  </thead>\n",
       "  <tbody>\n",
       "    <tr>\n",
       "      <th>0</th>\n",
       "      <td>0</td>\n",
       "      <td>0</td>\n",
       "      <td>1</td>\n",
       "      <td>QBDAX</td>\n",
       "      <td>Quantified Managed Income Advisor</td>\n",
       "      <td>Intermediate-Term Bond</td>\n",
       "      <td>Advisors Preferred</td>\n",
       "      <td>Blend</td>\n",
       "      <td>Large</td>\n",
       "      <td>4.077000e+07</td>\n",
       "      <td>...</td>\n",
       "      <td>NaN</td>\n",
       "      <td>NaN</td>\n",
       "      <td>NaN</td>\n",
       "      <td>4</td>\n",
       "      <td>-0.02</td>\n",
       "      <td>0.74</td>\n",
       "      <td>0.10</td>\n",
       "      <td>3.03</td>\n",
       "      <td>0.17</td>\n",
       "      <td>0.64</td>\n",
       "    </tr>\n",
       "    <tr>\n",
       "      <th>1</th>\n",
       "      <td>1</td>\n",
       "      <td>1</td>\n",
       "      <td>2</td>\n",
       "      <td>TSMLX</td>\n",
       "      <td>TIAA-CREF Lifestyle Moderate Retail</td>\n",
       "      <td>Allocation--50% to 70% Equity</td>\n",
       "      <td>TIAA Investments</td>\n",
       "      <td>Growth</td>\n",
       "      <td>Large</td>\n",
       "      <td>3.319900e+08</td>\n",
       "      <td>...</td>\n",
       "      <td>NaN</td>\n",
       "      <td>NaN</td>\n",
       "      <td>NaN</td>\n",
       "      <td>3</td>\n",
       "      <td>-0.14</td>\n",
       "      <td>1.07</td>\n",
       "      <td>0.52</td>\n",
       "      <td>6.86</td>\n",
       "      <td>0.81</td>\n",
       "      <td>5.09</td>\n",
       "    </tr>\n",
       "    <tr>\n",
       "      <th>2</th>\n",
       "      <td>2</td>\n",
       "      <td>2</td>\n",
       "      <td>3</td>\n",
       "      <td>DHQAX</td>\n",
       "      <td>Day Hagan Logix Tactical Dividend A</td>\n",
       "      <td>Large Value</td>\n",
       "      <td>Day Hagan</td>\n",
       "      <td>Value</td>\n",
       "      <td>Large</td>\n",
       "      <td>1.199400e+08</td>\n",
       "      <td>...</td>\n",
       "      <td>NaN</td>\n",
       "      <td>NaN</td>\n",
       "      <td>NaN</td>\n",
       "      <td>1</td>\n",
       "      <td>-2.18</td>\n",
       "      <td>0.69</td>\n",
       "      <td>0.47</td>\n",
       "      <td>8.93</td>\n",
       "      <td>0.56</td>\n",
       "      <td>6.76</td>\n",
       "    </tr>\n",
       "    <tr>\n",
       "      <th>3</th>\n",
       "      <td>3</td>\n",
       "      <td>3</td>\n",
       "      <td>4</td>\n",
       "      <td>NMGCX</td>\n",
       "      <td>Neuberger Berman Mid Cap Growth C</td>\n",
       "      <td>Mid-Cap Growth</td>\n",
       "      <td>Neuberger Berman</td>\n",
       "      <td>Growth</td>\n",
       "      <td>Medium</td>\n",
       "      <td>1.370000e+09</td>\n",
       "      <td>...</td>\n",
       "      <td>11.27</td>\n",
       "      <td>0.54</td>\n",
       "      <td>26.88</td>\n",
       "      <td>3</td>\n",
       "      <td>-3.03</td>\n",
       "      <td>1.02</td>\n",
       "      <td>0.68</td>\n",
       "      <td>11.86</td>\n",
       "      <td>0.63</td>\n",
       "      <td>6.87</td>\n",
       "    </tr>\n",
       "    <tr>\n",
       "      <th>4</th>\n",
       "      <td>4</td>\n",
       "      <td>4</td>\n",
       "      <td>5</td>\n",
       "      <td>MERIX</td>\n",
       "      <td>Merger Institutional</td>\n",
       "      <td>Market Neutral</td>\n",
       "      <td>Westchester Capital</td>\n",
       "      <td>Growth</td>\n",
       "      <td>Large</td>\n",
       "      <td>2.370000e+09</td>\n",
       "      <td>...</td>\n",
       "      <td>NaN</td>\n",
       "      <td>NaN</td>\n",
       "      <td>NaN</td>\n",
       "      <td>2</td>\n",
       "      <td>1.85</td>\n",
       "      <td>-0.16</td>\n",
       "      <td>0.20</td>\n",
       "      <td>2.98</td>\n",
       "      <td>0.59</td>\n",
       "      <td>-10.58</td>\n",
       "    </tr>\n",
       "  </tbody>\n",
       "</table>\n",
       "<p>5 rows × 58 columns</p>\n",
       "</div>"
      ],
      "text/plain": [
       "   index  Unnamed: 0  serial_number fund_symbol                            fund_name                       category          fund_family investment    size  total_net_assets        ...        returns_2012  returns_2011  returns_2010 morningstar_risk_rating  alpha_3y  beta_3y  mean_annual_return_3y  standard_deviation_3y  sharpe_ratio_3y  treynor_ratio_3y\n",
       "0      0           0              1       QBDAX    Quantified Managed Income Advisor         Intermediate-Term Bond   Advisors Preferred      Blend   Large      4.077000e+07        ...                 NaN           NaN           NaN                       4     -0.02     0.74                   0.10                   3.03             0.17              0.64\n",
       "1      1           1              2       TSMLX  TIAA-CREF Lifestyle Moderate Retail  Allocation--50% to 70% Equity     TIAA Investments     Growth   Large      3.319900e+08        ...                 NaN           NaN           NaN                       3     -0.14     1.07                   0.52                   6.86             0.81              5.09\n",
       "2      2           2              3       DHQAX  Day Hagan Logix Tactical Dividend A                    Large Value            Day Hagan      Value   Large      1.199400e+08        ...                 NaN           NaN           NaN                       1     -2.18     0.69                   0.47                   8.93             0.56              6.76\n",
       "3      3           3              4       NMGCX    Neuberger Berman Mid Cap Growth C                 Mid-Cap Growth     Neuberger Berman     Growth  Medium      1.370000e+09        ...               11.27          0.54         26.88                       3     -3.03     1.02                   0.68                  11.86             0.63              6.87\n",
       "4      4           4              5       MERIX                 Merger Institutional                 Market Neutral  Westchester Capital     Growth   Large      2.370000e+09        ...                 NaN           NaN           NaN                       2      1.85    -0.16                   0.20                   2.98             0.59            -10.58\n",
       "\n",
       "[5 rows x 58 columns]"
      ]
     },
     "execution_count": 12,
     "metadata": {
      "tags": []
     },
     "output_type": "execute_result"
    }
   ],
   "source": [
    "train_df.head()"
   ]
  },
  {
   "cell_type": "code",
   "execution_count": 13,
   "metadata": {
    "colab": {
     "base_uri": "https://localhost:8080/",
     "height": 364
    },
    "colab_type": "code",
    "executionInfo": {
     "elapsed": 787,
     "status": "ok",
     "timestamp": 1544349238703,
     "user": {
      "displayName": "Bhavesh Bhatt",
      "photoUrl": "https://lh5.googleusercontent.com/-Dxy3HXzth_c/AAAAAAAAAAI/AAAAAAAAHvk/4kcnA5cyAC4/s64/photo.jpg",
      "userId": "01561702845917398436"
     },
     "user_tz": -330
    },
    "id": "dhRBQR9yN61p",
    "outputId": "fb89f1e5-b497-422c-a3ce-801a854a119d"
   },
   "outputs": [
    {
     "data": {
      "text/plain": [
       "Index(['index', 'Unnamed: 0', 'serial_number', 'fund_symbol', 'fund_name',\n",
       "       'category', 'fund_family', 'investment', 'size', 'total_net_assets',\n",
       "       'currency', 'net_annual_expenses', 'morningstar_rating',\n",
       "       'inception_date', 'portfolio_cash', 'portfolio_stocks',\n",
       "       'portfolio_bonds', 'portfolio_others', 'portfolio_preferred',\n",
       "       'portfolio_convertable', 'sectors_basic_materials',\n",
       "       'sectors_consumer_cyclical', 'sectors_financial_services',\n",
       "       'sectors_real_estate', 'sectors_consumer_defensive',\n",
       "       'sectors_healthcare', 'sectors_utilities',\n",
       "       'sectors_communication_services', 'sectors_energy',\n",
       "       'sectors_industrials', 'sectors_technology', 'price_earning',\n",
       "       'bonds_us_government', 'bonds_aaa', 'bonds_aa', 'bonds_a', 'bonds_bbb',\n",
       "       'bonds_bb', 'bonds_b', 'bonds_below_b', 'bonds_others',\n",
       "       'morningstar_return_rating', 'returns_ytd', 'returns_2017',\n",
       "       'returns_2016', 'returns_2015', 'returns_2014', 'returns_2013',\n",
       "       'returns_2012', 'returns_2011', 'returns_2010',\n",
       "       'morningstar_risk_rating', 'alpha_3y', 'beta_3y',\n",
       "       'mean_annual_return_3y', 'standard_deviation_3y', 'sharpe_ratio_3y',\n",
       "       'treynor_ratio_3y'],\n",
       "      dtype='object')"
      ]
     },
     "execution_count": 13,
     "metadata": {
      "tags": []
     },
     "output_type": "execute_result"
    }
   ],
   "source": [
    "train_df.columns"
   ]
  },
  {
   "cell_type": "code",
   "execution_count": 0,
   "metadata": {
    "colab": {},
    "colab_type": "code",
    "id": "zKLFCXHcP5Vl"
   },
   "outputs": [],
   "source": [
    "columns = ['index', 'Unnamed: 0', 'serial_number', 'currency', 'inception_date',\n",
    "          'bonds_us_government']\n",
    "train_df.drop(columns, inplace=True, axis=1)"
   ]
  },
  {
   "cell_type": "code",
   "execution_count": 15,
   "metadata": {
    "colab": {
     "base_uri": "https://localhost:8080/",
     "height": 459
    },
    "colab_type": "code",
    "executionInfo": {
     "elapsed": 1343,
     "status": "ok",
     "timestamp": 1544349239997,
     "user": {
      "displayName": "Bhavesh Bhatt",
      "photoUrl": "https://lh5.googleusercontent.com/-Dxy3HXzth_c/AAAAAAAAAAI/AAAAAAAAHvk/4kcnA5cyAC4/s64/photo.jpg",
      "userId": "01561702845917398436"
     },
     "user_tz": -330
    },
    "id": "LmolEDGsOsWq",
    "outputId": "c14ffaa2-9b00-47ea-dfd6-14d135ea2290"
   },
   "outputs": [
    {
     "data": {
      "text/html": [
       "<div>\n",
       "<style scoped>\n",
       "    .dataframe tbody tr th:only-of-type {\n",
       "        vertical-align: middle;\n",
       "    }\n",
       "\n",
       "    .dataframe tbody tr th {\n",
       "        vertical-align: top;\n",
       "    }\n",
       "\n",
       "    .dataframe thead th {\n",
       "        text-align: right;\n",
       "    }\n",
       "</style>\n",
       "<table border=\"1\" class=\"dataframe\">\n",
       "  <thead>\n",
       "    <tr style=\"text-align: right;\">\n",
       "      <th></th>\n",
       "      <th>fund_symbol</th>\n",
       "      <th>fund_name</th>\n",
       "      <th>category</th>\n",
       "      <th>fund_family</th>\n",
       "      <th>investment</th>\n",
       "      <th>size</th>\n",
       "      <th>total_net_assets</th>\n",
       "      <th>net_annual_expenses</th>\n",
       "      <th>morningstar_rating</th>\n",
       "      <th>portfolio_cash</th>\n",
       "      <th>...</th>\n",
       "      <th>returns_2012</th>\n",
       "      <th>returns_2011</th>\n",
       "      <th>returns_2010</th>\n",
       "      <th>morningstar_risk_rating</th>\n",
       "      <th>alpha_3y</th>\n",
       "      <th>beta_3y</th>\n",
       "      <th>mean_annual_return_3y</th>\n",
       "      <th>standard_deviation_3y</th>\n",
       "      <th>sharpe_ratio_3y</th>\n",
       "      <th>treynor_ratio_3y</th>\n",
       "    </tr>\n",
       "  </thead>\n",
       "  <tbody>\n",
       "    <tr>\n",
       "      <th>17765</th>\n",
       "      <td>NGCRX</td>\n",
       "      <td>American Funds Retire Inc Port-Cnsrv C</td>\n",
       "      <td>Allocation--30% to 50% Equity</td>\n",
       "      <td>American Funds</td>\n",
       "      <td>Blend</td>\n",
       "      <td>Large</td>\n",
       "      <td>5.236300e+08</td>\n",
       "      <td>1.09</td>\n",
       "      <td>0</td>\n",
       "      <td>7.12</td>\n",
       "      <td>...</td>\n",
       "      <td>NaN</td>\n",
       "      <td>NaN</td>\n",
       "      <td>NaN</td>\n",
       "      <td>0</td>\n",
       "      <td>NaN</td>\n",
       "      <td>NaN</td>\n",
       "      <td>NaN</td>\n",
       "      <td>NaN</td>\n",
       "      <td>NaN</td>\n",
       "      <td>NaN</td>\n",
       "    </tr>\n",
       "    <tr>\n",
       "      <th>17766</th>\n",
       "      <td>PKRRX</td>\n",
       "      <td>Invesco Peak Retirement 2055 R6</td>\n",
       "      <td>Target-Date 2055</td>\n",
       "      <td>Invesco</td>\n",
       "      <td>Blend</td>\n",
       "      <td>Large</td>\n",
       "      <td>5.091800e+05</td>\n",
       "      <td>0.00</td>\n",
       "      <td>0</td>\n",
       "      <td>3.16</td>\n",
       "      <td>...</td>\n",
       "      <td>NaN</td>\n",
       "      <td>NaN</td>\n",
       "      <td>NaN</td>\n",
       "      <td>0</td>\n",
       "      <td>NaN</td>\n",
       "      <td>NaN</td>\n",
       "      <td>NaN</td>\n",
       "      <td>NaN</td>\n",
       "      <td>NaN</td>\n",
       "      <td>NaN</td>\n",
       "    </tr>\n",
       "    <tr>\n",
       "      <th>17767</th>\n",
       "      <td>OIDNX</td>\n",
       "      <td>Oppenheimer International Diversified R</td>\n",
       "      <td>Foreign Large Growth</td>\n",
       "      <td>OppenheimerFunds</td>\n",
       "      <td>Growth</td>\n",
       "      <td>Large</td>\n",
       "      <td>4.650000e+09</td>\n",
       "      <td>0.87</td>\n",
       "      <td>5</td>\n",
       "      <td>4.44</td>\n",
       "      <td>...</td>\n",
       "      <td>20.47</td>\n",
       "      <td>-15.45</td>\n",
       "      <td>17.31</td>\n",
       "      <td>3</td>\n",
       "      <td>3.29</td>\n",
       "      <td>0.87</td>\n",
       "      <td>0.67</td>\n",
       "      <td>11.25</td>\n",
       "      <td>0.66</td>\n",
       "      <td>8.06</td>\n",
       "    </tr>\n",
       "    <tr>\n",
       "      <th>17768</th>\n",
       "      <td>TRAIX</td>\n",
       "      <td>T. Rowe Price Capital Appreciation I</td>\n",
       "      <td>Allocation--50% to 70% Equity</td>\n",
       "      <td>T. Rowe Price</td>\n",
       "      <td>Growth</td>\n",
       "      <td>Large</td>\n",
       "      <td>2.957000e+10</td>\n",
       "      <td>0.60</td>\n",
       "      <td>5</td>\n",
       "      <td>4.56</td>\n",
       "      <td>...</td>\n",
       "      <td>NaN</td>\n",
       "      <td>NaN</td>\n",
       "      <td>NaN</td>\n",
       "      <td>4</td>\n",
       "      <td>2.48</td>\n",
       "      <td>0.99</td>\n",
       "      <td>0.70</td>\n",
       "      <td>6.61</td>\n",
       "      <td>1.17</td>\n",
       "      <td>7.89</td>\n",
       "    </tr>\n",
       "    <tr>\n",
       "      <th>17769</th>\n",
       "      <td>PRGIX</td>\n",
       "      <td>T. Rowe Price Growth &amp; Income</td>\n",
       "      <td>Large Blend</td>\n",
       "      <td>T. Rowe Price</td>\n",
       "      <td>Blend</td>\n",
       "      <td>Large</td>\n",
       "      <td>1.880000e+09</td>\n",
       "      <td>0.66</td>\n",
       "      <td>3</td>\n",
       "      <td>2.93</td>\n",
       "      <td>...</td>\n",
       "      <td>14.85</td>\n",
       "      <td>-0.14</td>\n",
       "      <td>13.92</td>\n",
       "      <td>2</td>\n",
       "      <td>0.34</td>\n",
       "      <td>0.89</td>\n",
       "      <td>0.85</td>\n",
       "      <td>9.62</td>\n",
       "      <td>0.99</td>\n",
       "      <td>10.66</td>\n",
       "    </tr>\n",
       "  </tbody>\n",
       "</table>\n",
       "<p>5 rows × 52 columns</p>\n",
       "</div>"
      ],
      "text/plain": [
       "      fund_symbol                                fund_name                       category       fund_family investment   size  total_net_assets  net_annual_expenses  morningstar_rating  portfolio_cash        ...         returns_2012  returns_2011  returns_2010  morningstar_risk_rating  alpha_3y  beta_3y  mean_annual_return_3y  standard_deviation_3y  sharpe_ratio_3y  treynor_ratio_3y\n",
       "17765       NGCRX   American Funds Retire Inc Port-Cnsrv C  Allocation--30% to 50% Equity    American Funds      Blend  Large      5.236300e+08                 1.09                   0            7.12        ...                  NaN           NaN           NaN                        0       NaN      NaN                    NaN                    NaN              NaN               NaN\n",
       "17766       PKRRX          Invesco Peak Retirement 2055 R6               Target-Date 2055           Invesco      Blend  Large      5.091800e+05                 0.00                   0            3.16        ...                  NaN           NaN           NaN                        0       NaN      NaN                    NaN                    NaN              NaN               NaN\n",
       "17767       OIDNX  Oppenheimer International Diversified R           Foreign Large Growth  OppenheimerFunds     Growth  Large      4.650000e+09                 0.87                   5            4.44        ...                20.47        -15.45         17.31                        3      3.29     0.87                   0.67                  11.25             0.66              8.06\n",
       "17768       TRAIX     T. Rowe Price Capital Appreciation I  Allocation--50% to 70% Equity     T. Rowe Price     Growth  Large      2.957000e+10                 0.60                   5            4.56        ...                  NaN           NaN           NaN                        4      2.48     0.99                   0.70                   6.61             1.17              7.89\n",
       "17769       PRGIX            T. Rowe Price Growth & Income                    Large Blend     T. Rowe Price      Blend  Large      1.880000e+09                 0.66                   3            2.93        ...                14.85         -0.14         13.92                        2      0.34     0.89                   0.85                   9.62             0.99             10.66\n",
       "\n",
       "[5 rows x 52 columns]"
      ]
     },
     "execution_count": 15,
     "metadata": {
      "tags": []
     },
     "output_type": "execute_result"
    }
   ],
   "source": [
    "train_df.tail()"
   ]
  },
  {
   "cell_type": "code",
   "execution_count": 16,
   "metadata": {
    "colab": {
     "base_uri": "https://localhost:8080/",
     "height": 35
    },
    "colab_type": "code",
    "executionInfo": {
     "elapsed": 1553,
     "status": "ok",
     "timestamp": 1544349240553,
     "user": {
      "displayName": "Bhavesh Bhatt",
      "photoUrl": "https://lh5.googleusercontent.com/-Dxy3HXzth_c/AAAAAAAAAAI/AAAAAAAAHvk/4kcnA5cyAC4/s64/photo.jpg",
      "userId": "01561702845917398436"
     },
     "user_tz": -330
    },
    "id": "07OZNTqHQ4c0",
    "outputId": "51b0df9b-01ea-4be6-8b06-644913f4bd8e"
   },
   "outputs": [
    {
     "data": {
      "text/plain": [
       "(17770, 52)"
      ]
     },
     "execution_count": 16,
     "metadata": {
      "tags": []
     },
     "output_type": "execute_result"
    }
   ],
   "source": [
    "train_df_copy = train_df.copy().dropna(how='all')\n",
    "train_df.shape"
   ]
  },
  {
   "cell_type": "code",
   "execution_count": 17,
   "metadata": {
    "colab": {
     "base_uri": "https://localhost:8080/",
     "height": 662
    },
    "colab_type": "code",
    "executionInfo": {
     "elapsed": 1209,
     "status": "ok",
     "timestamp": 1544349240555,
     "user": {
      "displayName": "Bhavesh Bhatt",
      "photoUrl": "https://lh5.googleusercontent.com/-Dxy3HXzth_c/AAAAAAAAAAI/AAAAAAAAHvk/4kcnA5cyAC4/s64/photo.jpg",
      "userId": "01561702845917398436"
     },
     "user_tz": -330
    },
    "id": "eTaU-H_PRd8w",
    "outputId": "f39ef93a-4331-4e97-c0b3-ac835afbea9e"
   },
   "outputs": [
    {
     "data": {
      "text/html": [
       "<div>\n",
       "<style scoped>\n",
       "    .dataframe tbody tr th:only-of-type {\n",
       "        vertical-align: middle;\n",
       "    }\n",
       "\n",
       "    .dataframe tbody tr th {\n",
       "        vertical-align: top;\n",
       "    }\n",
       "\n",
       "    .dataframe thead th {\n",
       "        text-align: right;\n",
       "    }\n",
       "</style>\n",
       "<table border=\"1\" class=\"dataframe\">\n",
       "  <thead>\n",
       "    <tr style=\"text-align: right;\">\n",
       "      <th></th>\n",
       "      <th>Total</th>\n",
       "      <th>Percent</th>\n",
       "    </tr>\n",
       "  </thead>\n",
       "  <tbody>\n",
       "    <tr>\n",
       "      <th>returns_2010</th>\n",
       "      <td>8918</td>\n",
       "      <td>50.185706</td>\n",
       "    </tr>\n",
       "    <tr>\n",
       "      <th>returns_2011</th>\n",
       "      <td>8143</td>\n",
       "      <td>45.824423</td>\n",
       "    </tr>\n",
       "    <tr>\n",
       "      <th>returns_2012</th>\n",
       "      <td>7393</td>\n",
       "      <td>41.603827</td>\n",
       "    </tr>\n",
       "    <tr>\n",
       "      <th>returns_2013</th>\n",
       "      <td>6397</td>\n",
       "      <td>35.998875</td>\n",
       "    </tr>\n",
       "    <tr>\n",
       "      <th>returns_2014</th>\n",
       "      <td>5396</td>\n",
       "      <td>30.365785</td>\n",
       "    </tr>\n",
       "    <tr>\n",
       "      <th>returns_2015</th>\n",
       "      <td>4302</td>\n",
       "      <td>24.209342</td>\n",
       "    </tr>\n",
       "    <tr>\n",
       "      <th>returns_2016</th>\n",
       "      <td>3038</td>\n",
       "      <td>17.096230</td>\n",
       "    </tr>\n",
       "    <tr>\n",
       "      <th>returns_2017</th>\n",
       "      <td>1921</td>\n",
       "      <td>10.810355</td>\n",
       "    </tr>\n",
       "    <tr>\n",
       "      <th>treynor_ratio_3y</th>\n",
       "      <td>1846</td>\n",
       "      <td>10.388295</td>\n",
       "    </tr>\n",
       "    <tr>\n",
       "      <th>alpha_3y</th>\n",
       "      <td>1846</td>\n",
       "      <td>10.388295</td>\n",
       "    </tr>\n",
       "    <tr>\n",
       "      <th>beta_3y</th>\n",
       "      <td>1846</td>\n",
       "      <td>10.388295</td>\n",
       "    </tr>\n",
       "    <tr>\n",
       "      <th>mean_annual_return_3y</th>\n",
       "      <td>1846</td>\n",
       "      <td>10.388295</td>\n",
       "    </tr>\n",
       "    <tr>\n",
       "      <th>standard_deviation_3y</th>\n",
       "      <td>1846</td>\n",
       "      <td>10.388295</td>\n",
       "    </tr>\n",
       "    <tr>\n",
       "      <th>sharpe_ratio_3y</th>\n",
       "      <td>1846</td>\n",
       "      <td>10.388295</td>\n",
       "    </tr>\n",
       "    <tr>\n",
       "      <th>investment</th>\n",
       "      <td>1124</td>\n",
       "      <td>6.325267</td>\n",
       "    </tr>\n",
       "    <tr>\n",
       "      <th>size</th>\n",
       "      <td>1124</td>\n",
       "      <td>6.325267</td>\n",
       "    </tr>\n",
       "    <tr>\n",
       "      <th>returns_ytd</th>\n",
       "      <td>100</td>\n",
       "      <td>0.562746</td>\n",
       "    </tr>\n",
       "    <tr>\n",
       "      <th>net_annual_expenses</th>\n",
       "      <td>12</td>\n",
       "      <td>0.067530</td>\n",
       "    </tr>\n",
       "    <tr>\n",
       "      <th>sectors_consumer_cyclical</th>\n",
       "      <td>0</td>\n",
       "      <td>0.000000</td>\n",
       "    </tr>\n",
       "    <tr>\n",
       "      <th>portfolio_bonds</th>\n",
       "      <td>0</td>\n",
       "      <td>0.000000</td>\n",
       "    </tr>\n",
       "  </tbody>\n",
       "</table>\n",
       "</div>"
      ],
      "text/plain": [
       "                           Total    Percent\n",
       "returns_2010                8918  50.185706\n",
       "returns_2011                8143  45.824423\n",
       "returns_2012                7393  41.603827\n",
       "returns_2013                6397  35.998875\n",
       "returns_2014                5396  30.365785\n",
       "returns_2015                4302  24.209342\n",
       "returns_2016                3038  17.096230\n",
       "returns_2017                1921  10.810355\n",
       "treynor_ratio_3y            1846  10.388295\n",
       "alpha_3y                    1846  10.388295\n",
       "beta_3y                     1846  10.388295\n",
       "mean_annual_return_3y       1846  10.388295\n",
       "standard_deviation_3y       1846  10.388295\n",
       "sharpe_ratio_3y             1846  10.388295\n",
       "investment                  1124   6.325267\n",
       "size                        1124   6.325267\n",
       "returns_ytd                  100   0.562746\n",
       "net_annual_expenses           12   0.067530\n",
       "sectors_consumer_cyclical      0   0.000000\n",
       "portfolio_bonds                0   0.000000"
      ]
     },
     "execution_count": 17,
     "metadata": {
      "tags": []
     },
     "output_type": "execute_result"
    }
   ],
   "source": [
    "#missing data observing in columns\n",
    "total = train_df.isnull().sum(axis=0).sort_values(ascending=False)\n",
    "percent = ((train_df.isnull().sum(axis=0)/train_df.isnull().count(axis=0))*100).sort_values(ascending=False)\n",
    "\n",
    "# count the number of null values in the column and their perecentage of the total data\n",
    "missing_data_columns = pd.concat([total, percent], axis=1, keys=['Total', 'Percent'])\n",
    "missing_data_columns.head(20)"
   ]
  },
  {
   "cell_type": "code",
   "execution_count": 0,
   "metadata": {
    "colab": {},
    "colab_type": "code",
    "id": "WjufB_OxR8tL"
   },
   "outputs": [],
   "source": [
    "columns = ['returns_2010', 'returns_2011', 'returns_2012', 'returns_2013', \n",
    "           'returns_2014']\n",
    "train_df.drop(columns, inplace=True, axis=1)"
   ]
  },
  {
   "cell_type": "code",
   "execution_count": 19,
   "metadata": {
    "colab": {
     "base_uri": "https://localhost:8080/",
     "height": 494
    },
    "colab_type": "code",
    "executionInfo": {
     "elapsed": 1089,
     "status": "ok",
     "timestamp": 1544349241039,
     "user": {
      "displayName": "Bhavesh Bhatt",
      "photoUrl": "https://lh5.googleusercontent.com/-Dxy3HXzth_c/AAAAAAAAAAI/AAAAAAAAHvk/4kcnA5cyAC4/s64/photo.jpg",
      "userId": "01561702845917398436"
     },
     "user_tz": -330
    },
    "id": "u4MFcGJXZNOo",
    "outputId": "0e0ff59f-e5eb-47a8-8381-726214ed99b9"
   },
   "outputs": [
    {
     "data": {
      "text/html": [
       "<div>\n",
       "<style scoped>\n",
       "    .dataframe tbody tr th:only-of-type {\n",
       "        vertical-align: middle;\n",
       "    }\n",
       "\n",
       "    .dataframe tbody tr th {\n",
       "        vertical-align: top;\n",
       "    }\n",
       "\n",
       "    .dataframe thead th {\n",
       "        text-align: right;\n",
       "    }\n",
       "</style>\n",
       "<table border=\"1\" class=\"dataframe\">\n",
       "  <thead>\n",
       "    <tr style=\"text-align: right;\">\n",
       "      <th></th>\n",
       "      <th>fund_symbol</th>\n",
       "      <th>fund_name</th>\n",
       "      <th>category</th>\n",
       "      <th>fund_family</th>\n",
       "      <th>investment</th>\n",
       "      <th>size</th>\n",
       "      <th>total_net_assets</th>\n",
       "      <th>net_annual_expenses</th>\n",
       "      <th>morningstar_rating</th>\n",
       "      <th>portfolio_cash</th>\n",
       "      <th>...</th>\n",
       "      <th>returns_2017</th>\n",
       "      <th>returns_2016</th>\n",
       "      <th>returns_2015</th>\n",
       "      <th>morningstar_risk_rating</th>\n",
       "      <th>alpha_3y</th>\n",
       "      <th>beta_3y</th>\n",
       "      <th>mean_annual_return_3y</th>\n",
       "      <th>standard_deviation_3y</th>\n",
       "      <th>sharpe_ratio_3y</th>\n",
       "      <th>treynor_ratio_3y</th>\n",
       "    </tr>\n",
       "  </thead>\n",
       "  <tbody>\n",
       "    <tr>\n",
       "      <th>0</th>\n",
       "      <td>QBDAX</td>\n",
       "      <td>Quantified Managed Income Advisor</td>\n",
       "      <td>Intermediate-Term Bond</td>\n",
       "      <td>Advisors Preferred</td>\n",
       "      <td>Blend</td>\n",
       "      <td>Large</td>\n",
       "      <td>4.077000e+07</td>\n",
       "      <td>2.01</td>\n",
       "      <td>3</td>\n",
       "      <td>14.60</td>\n",
       "      <td>...</td>\n",
       "      <td>4.36</td>\n",
       "      <td>NaN</td>\n",
       "      <td>NaN</td>\n",
       "      <td>4</td>\n",
       "      <td>-0.02</td>\n",
       "      <td>0.74</td>\n",
       "      <td>0.10</td>\n",
       "      <td>3.03</td>\n",
       "      <td>0.17</td>\n",
       "      <td>0.64</td>\n",
       "    </tr>\n",
       "    <tr>\n",
       "      <th>1</th>\n",
       "      <td>TSMLX</td>\n",
       "      <td>TIAA-CREF Lifestyle Moderate Retail</td>\n",
       "      <td>Allocation--50% to 70% Equity</td>\n",
       "      <td>TIAA Investments</td>\n",
       "      <td>Growth</td>\n",
       "      <td>Large</td>\n",
       "      <td>3.319900e+08</td>\n",
       "      <td>0.37</td>\n",
       "      <td>4</td>\n",
       "      <td>1.54</td>\n",
       "      <td>...</td>\n",
       "      <td>16.71</td>\n",
       "      <td>6.31</td>\n",
       "      <td>0.26</td>\n",
       "      <td>3</td>\n",
       "      <td>-0.14</td>\n",
       "      <td>1.07</td>\n",
       "      <td>0.52</td>\n",
       "      <td>6.86</td>\n",
       "      <td>0.81</td>\n",
       "      <td>5.09</td>\n",
       "    </tr>\n",
       "    <tr>\n",
       "      <th>2</th>\n",
       "      <td>DHQAX</td>\n",
       "      <td>Day Hagan Logix Tactical Dividend A</td>\n",
       "      <td>Large Value</td>\n",
       "      <td>Day Hagan</td>\n",
       "      <td>Value</td>\n",
       "      <td>Large</td>\n",
       "      <td>1.199400e+08</td>\n",
       "      <td>1.60</td>\n",
       "      <td>2</td>\n",
       "      <td>13.12</td>\n",
       "      <td>...</td>\n",
       "      <td>10.13</td>\n",
       "      <td>10.45</td>\n",
       "      <td>-2.39</td>\n",
       "      <td>1</td>\n",
       "      <td>-2.18</td>\n",
       "      <td>0.69</td>\n",
       "      <td>0.47</td>\n",
       "      <td>8.93</td>\n",
       "      <td>0.56</td>\n",
       "      <td>6.76</td>\n",
       "    </tr>\n",
       "    <tr>\n",
       "      <th>3</th>\n",
       "      <td>NMGCX</td>\n",
       "      <td>Neuberger Berman Mid Cap Growth C</td>\n",
       "      <td>Mid-Cap Growth</td>\n",
       "      <td>Neuberger Berman</td>\n",
       "      <td>Growth</td>\n",
       "      <td>Medium</td>\n",
       "      <td>1.370000e+09</td>\n",
       "      <td>1.86</td>\n",
       "      <td>3</td>\n",
       "      <td>4.27</td>\n",
       "      <td>...</td>\n",
       "      <td>24.10</td>\n",
       "      <td>3.83</td>\n",
       "      <td>0.40</td>\n",
       "      <td>3</td>\n",
       "      <td>-3.03</td>\n",
       "      <td>1.02</td>\n",
       "      <td>0.68</td>\n",
       "      <td>11.86</td>\n",
       "      <td>0.63</td>\n",
       "      <td>6.87</td>\n",
       "    </tr>\n",
       "    <tr>\n",
       "      <th>4</th>\n",
       "      <td>MERIX</td>\n",
       "      <td>Merger Institutional</td>\n",
       "      <td>Market Neutral</td>\n",
       "      <td>Westchester Capital</td>\n",
       "      <td>Growth</td>\n",
       "      <td>Large</td>\n",
       "      <td>2.370000e+09</td>\n",
       "      <td>1.11</td>\n",
       "      <td>4</td>\n",
       "      <td>43.31</td>\n",
       "      <td>...</td>\n",
       "      <td>2.74</td>\n",
       "      <td>2.94</td>\n",
       "      <td>-0.52</td>\n",
       "      <td>2</td>\n",
       "      <td>1.85</td>\n",
       "      <td>-0.16</td>\n",
       "      <td>0.20</td>\n",
       "      <td>2.98</td>\n",
       "      <td>0.59</td>\n",
       "      <td>-10.58</td>\n",
       "    </tr>\n",
       "  </tbody>\n",
       "</table>\n",
       "<p>5 rows × 47 columns</p>\n",
       "</div>"
      ],
      "text/plain": [
       "  fund_symbol                            fund_name                       category          fund_family investment    size  total_net_assets  net_annual_expenses  morningstar_rating  portfolio_cash        ...         returns_2017  returns_2016  returns_2015  morningstar_risk_rating  alpha_3y  beta_3y  mean_annual_return_3y  standard_deviation_3y  sharpe_ratio_3y  treynor_ratio_3y\n",
       "0       QBDAX    Quantified Managed Income Advisor         Intermediate-Term Bond   Advisors Preferred      Blend   Large      4.077000e+07                 2.01                   3           14.60        ...                 4.36           NaN           NaN                        4     -0.02     0.74                   0.10                   3.03             0.17              0.64\n",
       "1       TSMLX  TIAA-CREF Lifestyle Moderate Retail  Allocation--50% to 70% Equity     TIAA Investments     Growth   Large      3.319900e+08                 0.37                   4            1.54        ...                16.71          6.31          0.26                        3     -0.14     1.07                   0.52                   6.86             0.81              5.09\n",
       "2       DHQAX  Day Hagan Logix Tactical Dividend A                    Large Value            Day Hagan      Value   Large      1.199400e+08                 1.60                   2           13.12        ...                10.13         10.45         -2.39                        1     -2.18     0.69                   0.47                   8.93             0.56              6.76\n",
       "3       NMGCX    Neuberger Berman Mid Cap Growth C                 Mid-Cap Growth     Neuberger Berman     Growth  Medium      1.370000e+09                 1.86                   3            4.27        ...                24.10          3.83          0.40                        3     -3.03     1.02                   0.68                  11.86             0.63              6.87\n",
       "4       MERIX                 Merger Institutional                 Market Neutral  Westchester Capital     Growth   Large      2.370000e+09                 1.11                   4           43.31        ...                 2.74          2.94         -0.52                        2      1.85    -0.16                   0.20                   2.98             0.59            -10.58\n",
       "\n",
       "[5 rows x 47 columns]"
      ]
     },
     "execution_count": 19,
     "metadata": {
      "tags": []
     },
     "output_type": "execute_result"
    }
   ],
   "source": [
    "train_df.head()"
   ]
  },
  {
   "cell_type": "code",
   "execution_count": 20,
   "metadata": {
    "colab": {
     "base_uri": "https://localhost:8080/",
     "height": 35
    },
    "colab_type": "code",
    "executionInfo": {
     "elapsed": 857,
     "status": "ok",
     "timestamp": 1544349241041,
     "user": {
      "displayName": "Bhavesh Bhatt",
      "photoUrl": "https://lh5.googleusercontent.com/-Dxy3HXzth_c/AAAAAAAAAAI/AAAAAAAAHvk/4kcnA5cyAC4/s64/photo.jpg",
      "userId": "01561702845917398436"
     },
     "user_tz": -330
    },
    "id": "DccNo5jLZfxA",
    "outputId": "f5898b7f-cb4c-42c7-d9fe-23481f65d43d"
   },
   "outputs": [
    {
     "name": "stdout",
     "output_type": "stream",
     "text": [
      "Number of numeric columns = 41\n"
     ]
    }
   ],
   "source": [
    "numerical_feature_columns = list(train_df._get_numeric_data().columns)\n",
    "print (\"Number of numeric columns = {}\".format(len(numerical_feature_columns)))"
   ]
  },
  {
   "cell_type": "code",
   "execution_count": 21,
   "metadata": {
    "colab": {
     "base_uri": "https://localhost:8080/",
     "height": 35
    },
    "colab_type": "code",
    "executionInfo": {
     "elapsed": 959,
     "status": "ok",
     "timestamp": 1544349241464,
     "user": {
      "displayName": "Bhavesh Bhatt",
      "photoUrl": "https://lh5.googleusercontent.com/-Dxy3HXzth_c/AAAAAAAAAAI/AAAAAAAAHvk/4kcnA5cyAC4/s64/photo.jpg",
      "userId": "01561702845917398436"
     },
     "user_tz": -330
    },
    "id": "9nJCteOwZxkm",
    "outputId": "6f3b0ca3-c96d-4553-a386-37cd738f56e5"
   },
   "outputs": [
    {
     "name": "stdout",
     "output_type": "stream",
     "text": [
      "Number of categorical columns = 6\n"
     ]
    }
   ],
   "source": [
    "categorical_feature_columns = list(set(train_df.columns) - set(train_df._get_numeric_data().columns))\n",
    "print (\"Number of categorical columns = {}\".format(len(categorical_feature_columns)))"
   ]
  },
  {
   "cell_type": "code",
   "execution_count": 0,
   "metadata": {
    "colab": {},
    "colab_type": "code",
    "id": "7THukOr3aTSs"
   },
   "outputs": [],
   "source": [
    "from sklearn.base import TransformerMixin\n",
    "\n",
    "\n",
    "class SeriesImputer(TransformerMixin):\n",
    "\n",
    "    def __init__(self):\n",
    "        \"\"\"Impute missing values.\n",
    "\n",
    "        If the Series is of dtype Object, then impute with the most frequent object.\n",
    "        If the Series is not of dtype Object, then impute with the mean.  \n",
    "\n",
    "        \"\"\"\n",
    "    def fit(self, X, y=None):\n",
    "        if   X.dtype == np.dtype('O'): self.fill = X.value_counts().index[0]\n",
    "        else                            : self.fill = X.median()\n",
    "        return self\n",
    "\n",
    "    def transform(self, X, y=None):\n",
    "        return X.fillna(self.fill)"
   ]
  },
  {
   "cell_type": "code",
   "execution_count": 23,
   "metadata": {
    "colab": {
     "base_uri": "https://localhost:8080/",
     "height": 35
    },
    "colab_type": "code",
    "executionInfo": {
     "elapsed": 947,
     "status": "ok",
     "timestamp": 1544349242103,
     "user": {
      "displayName": "Bhavesh Bhatt",
      "photoUrl": "https://lh5.googleusercontent.com/-Dxy3HXzth_c/AAAAAAAAAAI/AAAAAAAAHvk/4kcnA5cyAC4/s64/photo.jpg",
      "userId": "01561702845917398436"
     },
     "user_tz": -330
    },
    "id": "RJCzUhOocUBI",
    "outputId": "934f8824-84e2-4af9-e7d3-46754770bd98"
   },
   "outputs": [
    {
     "data": {
      "text/plain": [
       "['size', 'category', 'investment', 'fund_symbol', 'fund_name', 'fund_family']"
      ]
     },
     "execution_count": 23,
     "metadata": {
      "tags": []
     },
     "output_type": "execute_result"
    }
   ],
   "source": [
    "categorical_feature_columns"
   ]
  },
  {
   "cell_type": "code",
   "execution_count": 24,
   "metadata": {
    "colab": {
     "base_uri": "https://localhost:8080/",
     "height": 233
    },
    "colab_type": "code",
    "executionInfo": {
     "elapsed": 956,
     "status": "ok",
     "timestamp": 1544349242622,
     "user": {
      "displayName": "Bhavesh Bhatt",
      "photoUrl": "https://lh5.googleusercontent.com/-Dxy3HXzth_c/AAAAAAAAAAI/AAAAAAAAHvk/4kcnA5cyAC4/s64/photo.jpg",
      "userId": "01561702845917398436"
     },
     "user_tz": -330
    },
    "id": "auPsNJ3gcW7o",
    "outputId": "143e2bb3-8c10-4ada-d0bc-cbcf7a29b868"
   },
   "outputs": [
    {
     "data": {
      "text/html": [
       "<div>\n",
       "<style scoped>\n",
       "    .dataframe tbody tr th:only-of-type {\n",
       "        vertical-align: middle;\n",
       "    }\n",
       "\n",
       "    .dataframe tbody tr th {\n",
       "        vertical-align: top;\n",
       "    }\n",
       "\n",
       "    .dataframe thead th {\n",
       "        text-align: right;\n",
       "    }\n",
       "</style>\n",
       "<table border=\"1\" class=\"dataframe\">\n",
       "  <thead>\n",
       "    <tr style=\"text-align: right;\">\n",
       "      <th></th>\n",
       "      <th>Total</th>\n",
       "      <th>Percent</th>\n",
       "    </tr>\n",
       "  </thead>\n",
       "  <tbody>\n",
       "    <tr>\n",
       "      <th>investment</th>\n",
       "      <td>1124</td>\n",
       "      <td>6.325267</td>\n",
       "    </tr>\n",
       "    <tr>\n",
       "      <th>size</th>\n",
       "      <td>1124</td>\n",
       "      <td>6.325267</td>\n",
       "    </tr>\n",
       "    <tr>\n",
       "      <th>fund_family</th>\n",
       "      <td>0</td>\n",
       "      <td>0.000000</td>\n",
       "    </tr>\n",
       "    <tr>\n",
       "      <th>fund_name</th>\n",
       "      <td>0</td>\n",
       "      <td>0.000000</td>\n",
       "    </tr>\n",
       "    <tr>\n",
       "      <th>fund_symbol</th>\n",
       "      <td>0</td>\n",
       "      <td>0.000000</td>\n",
       "    </tr>\n",
       "    <tr>\n",
       "      <th>category</th>\n",
       "      <td>0</td>\n",
       "      <td>0.000000</td>\n",
       "    </tr>\n",
       "  </tbody>\n",
       "</table>\n",
       "</div>"
      ],
      "text/plain": [
       "             Total   Percent\n",
       "investment    1124  6.325267\n",
       "size          1124  6.325267\n",
       "fund_family      0  0.000000\n",
       "fund_name        0  0.000000\n",
       "fund_symbol      0  0.000000\n",
       "category         0  0.000000"
      ]
     },
     "execution_count": 24,
     "metadata": {
      "tags": []
     },
     "output_type": "execute_result"
    }
   ],
   "source": [
    "#missing data observing in columns\n",
    "total = train_df[categorical_feature_columns].isnull().sum(axis=0).sort_values(ascending=False)\n",
    "percent = ((train_df[categorical_feature_columns].isnull().sum(axis=0)/train_df[categorical_feature_columns].isnull().count(axis=0))*100).sort_values(ascending=False)\n",
    "\n",
    "# count the number of null values in the column and their perecentage of the total data\n",
    "missing_data_columns = pd.concat([total, percent], axis=1, keys=['Total', 'Percent'])\n",
    "missing_data_columns.head(10)"
   ]
  },
  {
   "cell_type": "code",
   "execution_count": 25,
   "metadata": {
    "colab": {
     "base_uri": "https://localhost:8080/",
     "height": 355
    },
    "colab_type": "code",
    "executionInfo": {
     "elapsed": 903,
     "status": "ok",
     "timestamp": 1544349242998,
     "user": {
      "displayName": "Bhavesh Bhatt",
      "photoUrl": "https://lh5.googleusercontent.com/-Dxy3HXzth_c/AAAAAAAAAAI/AAAAAAAAHvk/4kcnA5cyAC4/s64/photo.jpg",
      "userId": "01561702845917398436"
     },
     "user_tz": -330
    },
    "id": "2Yh30O-Ocjb1",
    "outputId": "dafa117c-bbd2-45db-dad8-3fdfd3a24361"
   },
   "outputs": [
    {
     "data": {
      "text/html": [
       "<div>\n",
       "<style scoped>\n",
       "    .dataframe tbody tr th:only-of-type {\n",
       "        vertical-align: middle;\n",
       "    }\n",
       "\n",
       "    .dataframe tbody tr th {\n",
       "        vertical-align: top;\n",
       "    }\n",
       "\n",
       "    .dataframe thead th {\n",
       "        text-align: right;\n",
       "    }\n",
       "</style>\n",
       "<table border=\"1\" class=\"dataframe\">\n",
       "  <thead>\n",
       "    <tr style=\"text-align: right;\">\n",
       "      <th></th>\n",
       "      <th>Total</th>\n",
       "      <th>Percent</th>\n",
       "    </tr>\n",
       "  </thead>\n",
       "  <tbody>\n",
       "    <tr>\n",
       "      <th>returns_2015</th>\n",
       "      <td>4302</td>\n",
       "      <td>24.209342</td>\n",
       "    </tr>\n",
       "    <tr>\n",
       "      <th>returns_2016</th>\n",
       "      <td>3038</td>\n",
       "      <td>17.096230</td>\n",
       "    </tr>\n",
       "    <tr>\n",
       "      <th>returns_2017</th>\n",
       "      <td>1921</td>\n",
       "      <td>10.810355</td>\n",
       "    </tr>\n",
       "    <tr>\n",
       "      <th>alpha_3y</th>\n",
       "      <td>1846</td>\n",
       "      <td>10.388295</td>\n",
       "    </tr>\n",
       "    <tr>\n",
       "      <th>sharpe_ratio_3y</th>\n",
       "      <td>1846</td>\n",
       "      <td>10.388295</td>\n",
       "    </tr>\n",
       "    <tr>\n",
       "      <th>treynor_ratio_3y</th>\n",
       "      <td>1846</td>\n",
       "      <td>10.388295</td>\n",
       "    </tr>\n",
       "    <tr>\n",
       "      <th>beta_3y</th>\n",
       "      <td>1846</td>\n",
       "      <td>10.388295</td>\n",
       "    </tr>\n",
       "    <tr>\n",
       "      <th>mean_annual_return_3y</th>\n",
       "      <td>1846</td>\n",
       "      <td>10.388295</td>\n",
       "    </tr>\n",
       "    <tr>\n",
       "      <th>standard_deviation_3y</th>\n",
       "      <td>1846</td>\n",
       "      <td>10.388295</td>\n",
       "    </tr>\n",
       "    <tr>\n",
       "      <th>returns_ytd</th>\n",
       "      <td>100</td>\n",
       "      <td>0.562746</td>\n",
       "    </tr>\n",
       "  </tbody>\n",
       "</table>\n",
       "</div>"
      ],
      "text/plain": [
       "                       Total    Percent\n",
       "returns_2015            4302  24.209342\n",
       "returns_2016            3038  17.096230\n",
       "returns_2017            1921  10.810355\n",
       "alpha_3y                1846  10.388295\n",
       "sharpe_ratio_3y         1846  10.388295\n",
       "treynor_ratio_3y        1846  10.388295\n",
       "beta_3y                 1846  10.388295\n",
       "mean_annual_return_3y   1846  10.388295\n",
       "standard_deviation_3y   1846  10.388295\n",
       "returns_ytd              100   0.562746"
      ]
     },
     "execution_count": 25,
     "metadata": {
      "tags": []
     },
     "output_type": "execute_result"
    }
   ],
   "source": [
    "#missing data observing in columns\n",
    "total = train_df[numerical_feature_columns].isnull().sum(axis=0).sort_values(ascending=False)\n",
    "percent = ((train_df[numerical_feature_columns].isnull().sum(axis=0)/train_df[numerical_feature_columns].isnull().count(axis=0))*100).sort_values(ascending=False)\n",
    "\n",
    "# count the number of null values in the column and their perecentage of the total data\n",
    "missing_data_columns = pd.concat([total, percent], axis=1, keys=['Total', 'Percent'])\n",
    "missing_data_columns.head(10)"
   ]
  },
  {
   "cell_type": "code",
   "execution_count": 0,
   "metadata": {
    "colab": {},
    "colab_type": "code",
    "id": "PUMsmyO2dEcY"
   },
   "outputs": [],
   "source": [
    "missing_value_imputer  = SeriesImputer()   # Initialize the imputer\n",
    "\n",
    "for cols in train_df.columns:\n",
    "  missing_value_imputer.fit(train_df[cols])      # Fit the imputer\n",
    "  train_df[cols] = missing_value_imputer.transform(train_df[cols])   # Get a new series"
   ]
  },
  {
   "cell_type": "code",
   "execution_count": 27,
   "metadata": {
    "colab": {
     "base_uri": "https://localhost:8080/",
     "height": 35
    },
    "colab_type": "code",
    "executionInfo": {
     "elapsed": 1843,
     "status": "ok",
     "timestamp": 1544349245955,
     "user": {
      "displayName": "Bhavesh Bhatt",
      "photoUrl": "https://lh5.googleusercontent.com/-Dxy3HXzth_c/AAAAAAAAAAI/AAAAAAAAHvk/4kcnA5cyAC4/s64/photo.jpg",
      "userId": "01561702845917398436"
     },
     "user_tz": -330
    },
    "id": "pyAzyklEgAK2",
    "outputId": "58fab882-2fa4-41bf-e8a9-6aabd17bb1f2"
   },
   "outputs": [
    {
     "data": {
      "text/plain": [
       "False"
      ]
     },
     "execution_count": 27,
     "metadata": {
      "tags": []
     },
     "output_type": "execute_result"
    }
   ],
   "source": [
    "train_df.isnull().values.any()"
   ]
  },
  {
   "cell_type": "code",
   "execution_count": 28,
   "metadata": {
    "colab": {
     "base_uri": "https://localhost:8080/",
     "height": 35
    },
    "colab_type": "code",
    "executionInfo": {
     "elapsed": 1278,
     "status": "ok",
     "timestamp": 1544349245956,
     "user": {
      "displayName": "Bhavesh Bhatt",
      "photoUrl": "https://lh5.googleusercontent.com/-Dxy3HXzth_c/AAAAAAAAAAI/AAAAAAAAHvk/4kcnA5cyAC4/s64/photo.jpg",
      "userId": "01561702845917398436"
     },
     "user_tz": -330
    },
    "id": "t2P7e5ECgLt9",
    "outputId": "fd88f310-7822-41e6-bea2-70be34f1ea76"
   },
   "outputs": [
    {
     "data": {
      "text/plain": [
       "(17770, 47)"
      ]
     },
     "execution_count": 28,
     "metadata": {
      "tags": []
     },
     "output_type": "execute_result"
    }
   ],
   "source": [
    "train_df.shape"
   ]
  },
  {
   "cell_type": "code",
   "execution_count": 29,
   "metadata": {
    "colab": {
     "base_uri": "https://localhost:8080/",
     "height": 35
    },
    "colab_type": "code",
    "executionInfo": {
     "elapsed": 665,
     "status": "ok",
     "timestamp": 1544349245957,
     "user": {
      "displayName": "Bhavesh Bhatt",
      "photoUrl": "https://lh5.googleusercontent.com/-Dxy3HXzth_c/AAAAAAAAAAI/AAAAAAAAHvk/4kcnA5cyAC4/s64/photo.jpg",
      "userId": "01561702845917398436"
     },
     "user_tz": -330
    },
    "id": "qYxtOOtbjTRY",
    "outputId": "30e358d2-1775-4391-ba0e-1720051f01d0"
   },
   "outputs": [
    {
     "data": {
      "text/plain": [
       "['size', 'category', 'investment', 'fund_symbol', 'fund_name', 'fund_family']"
      ]
     },
     "execution_count": 29,
     "metadata": {
      "tags": []
     },
     "output_type": "execute_result"
    }
   ],
   "source": [
    "categorical_feature_columns"
   ]
  },
  {
   "cell_type": "code",
   "execution_count": 30,
   "metadata": {
    "colab": {
     "base_uri": "https://localhost:8080/",
     "height": 87
    },
    "colab_type": "code",
    "executionInfo": {
     "elapsed": 717,
     "status": "ok",
     "timestamp": 1544349246513,
     "user": {
      "displayName": "Bhavesh Bhatt",
      "photoUrl": "https://lh5.googleusercontent.com/-Dxy3HXzth_c/AAAAAAAAAAI/AAAAAAAAHvk/4kcnA5cyAC4/s64/photo.jpg",
      "userId": "01561702845917398436"
     },
     "user_tz": -330
    },
    "id": "VnlK3bQgkToK",
    "outputId": "7b5231e1-0c96-4fe6-d924-f91b550ab751"
   },
   "outputs": [
    {
     "data": {
      "text/plain": [
       "Large     11403\n",
       "Medium     4108\n",
       "Small      2259\n",
       "Name: size, dtype: int64"
      ]
     },
     "execution_count": 30,
     "metadata": {
      "tags": []
     },
     "output_type": "execute_result"
    }
   ],
   "source": [
    "train_df['size'].value_counts()"
   ]
  },
  {
   "cell_type": "code",
   "execution_count": 31,
   "metadata": {
    "colab": {
     "base_uri": "https://localhost:8080/",
     "height": 518
    },
    "colab_type": "code",
    "executionInfo": {
     "elapsed": 2733,
     "status": "ok",
     "timestamp": 1544349249115,
     "user": {
      "displayName": "Bhavesh Bhatt",
      "photoUrl": "https://lh5.googleusercontent.com/-Dxy3HXzth_c/AAAAAAAAAAI/AAAAAAAAHvk/4kcnA5cyAC4/s64/photo.jpg",
      "userId": "01561702845917398436"
     },
     "user_tz": -330
    },
    "id": "7W42CdEUlC7j",
    "outputId": "3a0a8934-7b08-4690-e240-23a765648a58"
   },
   "outputs": [
    {
     "data": {
      "text/plain": [
       "<matplotlib.axes._subplots.AxesSubplot at 0x7fb1db87a2b0>"
      ]
     },
     "execution_count": 31,
     "metadata": {
      "tags": []
     },
     "output_type": "execute_result"
    },
    {
     "data": {
      "image/png": "[encoded data removed]",
      "text/plain": [
       "<matplotlib.figure.Figure at 0x7fb1db85a470>"
      ]
     },
     "metadata": {
      "tags": []
     },
     "output_type": "display_data"
    }
   ],
   "source": [
    "k = 15 #number of variables for heatmap\n",
    "cols = train_df.corr().nlargest(k, 'bonds_aaa')['bonds_aaa'].index\n",
    "cm = train_df[cols].corr()\n",
    "plt.figure(figsize=(10,6))\n",
    "sns.heatmap(cm, annot=True, cmap = 'viridis')"
   ]
  },
  {
   "cell_type": "code",
   "execution_count": 32,
   "metadata": {
    "colab": {
     "base_uri": "https://localhost:8080/",
     "height": 459
    },
    "colab_type": "code",
    "executionInfo": {
     "elapsed": 3306,
     "status": "ok",
     "timestamp": 1544349250624,
     "user": {
      "displayName": "Bhavesh Bhatt",
      "photoUrl": "https://lh5.googleusercontent.com/-Dxy3HXzth_c/AAAAAAAAAAI/AAAAAAAAHvk/4kcnA5cyAC4/s64/photo.jpg",
      "userId": "01561702845917398436"
     },
     "user_tz": -330
    },
    "id": "t_aspX_fjCOS",
    "outputId": "d819c06e-62fa-4a3f-8d85-2360f1f6fc15"
   },
   "outputs": [
    {
     "data": {
      "text/plain": [
       "<seaborn.axisgrid.JointGrid at 0x7fb1db7b69b0>"
      ]
     },
     "execution_count": 32,
     "metadata": {
      "tags": []
     },
     "output_type": "execute_result"
    },
    {
     "data": {
      "image/png": "[encoded data removed]",
      "text/plain": [
       "<matplotlib.figure.Figure at 0x7fb1db7b64e0>"
      ]
     },
     "metadata": {
      "tags": []
     },
     "output_type": "display_data"
    }
   ],
   "source": [
    "sns.jointplot('bonds_aa', 'bonds_a', data=train_df, kind='reg')"
   ]
  },
  {
   "cell_type": "code",
   "execution_count": 33,
   "metadata": {
    "colab": {
     "base_uri": "https://localhost:8080/",
     "height": 459
    },
    "colab_type": "code",
    "executionInfo": {
     "elapsed": 4608,
     "status": "ok",
     "timestamp": 1544349252717,
     "user": {
      "displayName": "Bhavesh Bhatt",
      "photoUrl": "https://lh5.googleusercontent.com/-Dxy3HXzth_c/AAAAAAAAAAI/AAAAAAAAHvk/4kcnA5cyAC4/s64/photo.jpg",
      "userId": "01561702845917398436"
     },
     "user_tz": -330
    },
    "id": "lAB_4qmilLCo",
    "outputId": "f8508859-8443-4b48-a070-2f836dd41cc8"
   },
   "outputs": [
    {
     "data": {
      "text/plain": [
       "<seaborn.axisgrid.JointGrid at 0x7fb1d74ae860>"
      ]
     },
     "execution_count": 33,
     "metadata": {
      "tags": []
     },
     "output_type": "execute_result"
    },
    {
     "data": {
      "image/png": "[encoded data removed]",
      "text/plain": [
       "<matplotlib.figure.Figure at 0x7fb1d8d04e80>"
      ]
     },
     "metadata": {
      "tags": []
     },
     "output_type": "display_data"
    }
   ],
   "source": [
    "sns.jointplot('bonds_aaa', 'bonds_bbb', data=train_df, kind='reg')"
   ]
  },
  {
   "cell_type": "code",
   "execution_count": 34,
   "metadata": {
    "colab": {
     "base_uri": "https://localhost:8080/",
     "height": 544
    },
    "colab_type": "code",
    "executionInfo": {
     "elapsed": 3974,
     "status": "ok",
     "timestamp": 1544349253374,
     "user": {
      "displayName": "Bhavesh Bhatt",
      "photoUrl": "https://lh5.googleusercontent.com/-Dxy3HXzth_c/AAAAAAAAAAI/AAAAAAAAHvk/4kcnA5cyAC4/s64/photo.jpg",
      "userId": "01561702845917398436"
     },
     "user_tz": -330
    },
    "id": "TX-_aqhHppEK",
    "outputId": "900061dd-a74e-400c-abaf-20695d8c0ace"
   },
   "outputs": [
    {
     "data": {
      "text/plain": [
       "<matplotlib.axes._subplots.AxesSubplot at 0x7fb1d72dc3c8>"
      ]
     },
     "execution_count": 34,
     "metadata": {
      "tags": []
     },
     "output_type": "execute_result"
    },
    {
     "data": {
      "image/png": "[encoded data removed]",
      "text/plain": [
       "<matplotlib.figure.Figure at 0x7fb1d7245f60>"
      ]
     },
     "metadata": {
      "tags": []
     },
     "output_type": "display_data"
    }
   ],
   "source": [
    "plt.figure(figsize=(15,8))\n",
    "plt.xticks(rotation = 45)\n",
    "sns.boxplot('size', 'bonds_aaa', data=train_df)"
   ]
  },
  {
   "cell_type": "code",
   "execution_count": 35,
   "metadata": {
    "colab": {
     "base_uri": "https://localhost:8080/",
     "height": 421
    },
    "colab_type": "code",
    "executionInfo": {
     "elapsed": 2108,
     "status": "ok",
     "timestamp": 1544349253375,
     "user": {
      "displayName": "Bhavesh Bhatt",
      "photoUrl": "https://lh5.googleusercontent.com/-Dxy3HXzth_c/AAAAAAAAAAI/AAAAAAAAHvk/4kcnA5cyAC4/s64/photo.jpg",
      "userId": "01561702845917398436"
     },
     "user_tz": -330
    },
    "id": "aJ823Vbbqtnf",
    "outputId": "c6280b95-2f9d-4b05-9d52-ac3c51ab25c9"
   },
   "outputs": [
    {
     "data": {
      "text/plain": [
       "<matplotlib.axes._subplots.AxesSubplot at 0x7fb1d70fb5f8>"
      ]
     },
     "execution_count": 35,
     "metadata": {
      "tags": []
     },
     "output_type": "execute_result"
    },
    {
     "data": {
      "image/png": "[encoded data removed]",
      "text/plain": [
       "<matplotlib.figure.Figure at 0x7fb1d70fbd30>"
      ]
     },
     "metadata": {
      "tags": []
     },
     "output_type": "display_data"
    }
   ],
   "source": [
    "plt.figure(figsize=(12,6))\n",
    "plt.xticks(rotation = 45)\n",
    "sns.boxplot('bonds_aaa', 'investment', data=train_df)"
   ]
  },
  {
   "cell_type": "code",
   "execution_count": 36,
   "metadata": {
    "colab": {
     "base_uri": "https://localhost:8080/",
     "height": 35
    },
    "colab_type": "code",
    "executionInfo": {
     "elapsed": 879,
     "status": "ok",
     "timestamp": 1544349254184,
     "user": {
      "displayName": "Bhavesh Bhatt",
      "photoUrl": "https://lh5.googleusercontent.com/-Dxy3HXzth_c/AAAAAAAAAAI/AAAAAAAAHvk/4kcnA5cyAC4/s64/photo.jpg",
      "userId": "01561702845917398436"
     },
     "user_tz": -330
    },
    "id": "6BffngS1rKc1",
    "outputId": "b6af5ec5-3939-4384-cbb9-814343e1098b"
   },
   "outputs": [
    {
     "data": {
      "text/plain": [
       "['size', 'category', 'investment', 'fund_symbol', 'fund_name', 'fund_family']"
      ]
     },
     "execution_count": 36,
     "metadata": {
      "tags": []
     },
     "output_type": "execute_result"
    }
   ],
   "source": [
    "categorical_feature_columns"
   ]
  },
  {
   "cell_type": "code",
   "execution_count": 37,
   "metadata": {
    "colab": {
     "base_uri": "https://localhost:8080/",
     "height": 121
    },
    "colab_type": "code",
    "executionInfo": {
     "elapsed": 1118,
     "status": "ok",
     "timestamp": 1544349255480,
     "user": {
      "displayName": "Bhavesh Bhatt",
      "photoUrl": "https://lh5.googleusercontent.com/-Dxy3HXzth_c/AAAAAAAAAAI/AAAAAAAAHvk/4kcnA5cyAC4/s64/photo.jpg",
      "userId": "01561702845917398436"
     },
     "user_tz": -330
    },
    "id": "a5UQdPzsrXMC",
    "outputId": "28de7a37-94e9-41ad-ddb7-415b2a094472"
   },
   "outputs": [
    {
     "name": "stdout",
     "output_type": "stream",
     "text": [
      "size 3\n",
      "category 111\n",
      "investment 3\n",
      "fund_symbol 17770\n",
      "fund_name 17769\n",
      "fund_family 702\n"
     ]
    }
   ],
   "source": [
    "for cols in categorical_feature_columns:\n",
    "  print (cols, train_df[cols].value_counts().shape[0])"
   ]
  },
  {
   "cell_type": "code",
   "execution_count": 0,
   "metadata": {
    "colab": {},
    "colab_type": "code",
    "id": "euoeSaWVsSZG"
   },
   "outputs": [],
   "source": [
    "cleanup_sizes = {\"size\": {\"Small\": 1, \"Medium\": 2, \"Large\": 3}}"
   ]
  },
  {
   "cell_type": "code",
   "execution_count": 39,
   "metadata": {
    "colab": {
     "base_uri": "https://localhost:8080/",
     "height": 121
    },
    "colab_type": "code",
    "executionInfo": {
     "elapsed": 1174,
     "status": "ok",
     "timestamp": 1544349258202,
     "user": {
      "displayName": "Bhavesh Bhatt",
      "photoUrl": "https://lh5.googleusercontent.com/-Dxy3HXzth_c/AAAAAAAAAAI/AAAAAAAAHvk/4kcnA5cyAC4/s64/photo.jpg",
      "userId": "01561702845917398436"
     },
     "user_tz": -330
    },
    "id": "-FnY3aZvtcdU",
    "outputId": "972797a6-f9bc-48c4-adbf-7db6ef82a02e"
   },
   "outputs": [
    {
     "data": {
      "text/plain": [
       "0    3\n",
       "1    3\n",
       "2    3\n",
       "3    2\n",
       "4    3\n",
       "Name: size, dtype: int64"
      ]
     },
     "execution_count": 39,
     "metadata": {
      "tags": []
     },
     "output_type": "execute_result"
    }
   ],
   "source": [
    "train_df.replace(cleanup_sizes, inplace=True)\n",
    "train_df['size'].head()"
   ]
  },
  {
   "cell_type": "code",
   "execution_count": 0,
   "metadata": {
    "colab": {},
    "colab_type": "code",
    "id": "cd5tVMJ-ufwR"
   },
   "outputs": [],
   "source": [
    "train_df = pd.concat([train_df, pd.get_dummies(train_df['investment'])], axis = 1)"
   ]
  },
  {
   "cell_type": "code",
   "execution_count": 0,
   "metadata": {
    "colab": {},
    "colab_type": "code",
    "id": "ySNLWcOjuoXO"
   },
   "outputs": [],
   "source": [
    "columns = ['fund_symbol', 'fund_name', 'fund_family', 'category', 'investment']\n",
    "train_df.drop(columns, inplace=True, axis=1)"
   ]
  },
  {
   "cell_type": "code",
   "execution_count": 0,
   "metadata": {
    "colab": {},
    "colab_type": "code",
    "id": "jUOE_kXHzVtC"
   },
   "outputs": [],
   "source": [
    "X_train, Y_train = train_df.loc[:, train_df.columns != 'bonds_aaa'], train_df.loc[:, 'bonds_aaa']"
   ]
  },
  {
   "cell_type": "code",
   "execution_count": 0,
   "metadata": {
    "colab": {},
    "colab_type": "code",
    "id": "xHyJZmh_z4Po"
   },
   "outputs": [],
   "source": [
    "numerical_feature_columns = list(X_train._get_numeric_data().columns)"
   ]
  },
  {
   "cell_type": "code",
   "execution_count": 44,
   "metadata": {
    "colab": {
     "base_uri": "https://localhost:8080/",
     "height": 121
    },
    "colab_type": "code",
    "executionInfo": {
     "elapsed": 4115,
     "status": "ok",
     "timestamp": 1544349299908,
     "user": {
      "displayName": "Bhavesh Bhatt",
      "photoUrl": "https://lh5.googleusercontent.com/-Dxy3HXzth_c/AAAAAAAAAAI/AAAAAAAAHvk/4kcnA5cyAC4/s64/photo.jpg",
      "userId": "01561702845917398436"
     },
     "user_tz": -330
    },
    "id": "nzj9lCql1LqG",
    "outputId": "5a2d9bd3-e587-4529-c6c7-2a0547ba0537"
   },
   "outputs": [
    {
     "name": "stderr",
     "output_type": "stream",
     "text": [
      "/usr/local/lib/python3.6/dist-packages/pandas/core/indexing.py:537: SettingWithCopyWarning: \n",
      "A value is trying to be set on a copy of a slice from a DataFrame.\n",
      "Try using .loc[row_indexer,col_indexer] = value instead\n",
      "\n",
      "See the caveats in the documentation: http://pandas.pydata.org/pandas-docs/stable/indexing.html#indexing-view-versus-copy\n",
      "  self.obj[item] = s\n"
     ]
    }
   ],
   "source": [
    "stand_scale= StandardScaler()\n",
    "X_train.loc[:, numerical_feature_columns] = stand_scale.fit_transform(X_train.loc[:, numerical_feature_columns])\n",
    "standardized_DF = preprocessing.scale(X_train)"
   ]
  },
  {
   "cell_type": "code",
   "execution_count": 0,
   "metadata": {
    "colab": {},
    "colab_type": "code",
    "id": "YZlcNUE0ZDo5"
   },
   "outputs": [],
   "source": [
    "lasso_model = Lasso(alpha=0.01)"
   ]
  },
  {
   "cell_type": "code",
   "execution_count": 47,
   "metadata": {
    "colab": {
     "base_uri": "https://localhost:8080/",
     "height": 121
    },
    "colab_type": "code",
    "executionInfo": {
     "elapsed": 14762,
     "status": "ok",
     "timestamp": 1544349420407,
     "user": {
      "displayName": "Bhavesh Bhatt",
      "photoUrl": "https://lh5.googleusercontent.com/-Dxy3HXzth_c/AAAAAAAAAAI/AAAAAAAAHvk/4kcnA5cyAC4/s64/photo.jpg",
      "userId": "01561702845917398436"
     },
     "user_tz": -330
    },
    "id": "Z4X3rw3RZIeE",
    "outputId": "873ec420-9b7a-44f2-bc13-65fe961a185c"
   },
   "outputs": [
    {
     "name": "stdout",
     "output_type": "stream",
     "text": [
      "[ True False  True False  True  True  True  True False False False False\n",
      " False False False False False False False False  True False  True False\n",
      "  True  True False False False False False  True False False False False\n",
      "  True  True  True  True False False False False]\n",
      "[ 1 20  1 22  1  1  1  1 12 16  3 28  2 11  7 10 19 25 21 23  1 17  1 29\n",
      "  1  1 18 27 15  4  5  1 13 14  9  8  1  1  1  1 24  6 30 26]\n"
     ]
    }
   ],
   "source": [
    "from sklearn.feature_selection import RFE\n",
    "rfe = RFE(lasso_model, 15)\n",
    "rfe = rfe.fit(standardized_DF, Y_train)\n",
    "# print summaries for the selection of attributes\n",
    "print(rfe.support_)\n",
    "print(rfe.ranking_)"
   ]
  },
  {
   "cell_type": "code",
   "execution_count": 55,
   "metadata": {
    "colab": {
     "base_uri": "https://localhost:8080/",
     "height": 35
    },
    "colab_type": "code",
    "executionInfo": {
     "elapsed": 1692,
     "status": "ok",
     "timestamp": 1544349702976,
     "user": {
      "displayName": "Bhavesh Bhatt",
      "photoUrl": "https://lh5.googleusercontent.com/-Dxy3HXzth_c/AAAAAAAAAAI/AAAAAAAAHvk/4kcnA5cyAC4/s64/photo.jpg",
      "userId": "01561702845917398436"
     },
     "user_tz": -330
    },
    "id": "rvtdGCsTZoEh",
    "outputId": "4c8ad9a7-15a3-4beb-b5b7-2c123787c4fd"
   },
   "outputs": [
    {
     "data": {
      "text/plain": [
       "0.32530790805003906"
      ]
     },
     "execution_count": 55,
     "metadata": {
      "tags": []
     },
     "output_type": "execute_result"
    }
   ],
   "source": [
    "scores = cross_val_score(lasso_model, standardized_DF[:, rfe.support_], Y_train, cv=5)\n",
    "scores.mean()"
   ]
  },
  {
   "cell_type": "code",
   "execution_count": 56,
   "metadata": {
    "colab": {
     "base_uri": "https://localhost:8080/",
     "height": 35
    },
    "colab_type": "code",
    "executionInfo": {
     "elapsed": 931,
     "status": "ok",
     "timestamp": 1544349708229,
     "user": {
      "displayName": "Bhavesh Bhatt",
      "photoUrl": "https://lh5.googleusercontent.com/-Dxy3HXzth_c/AAAAAAAAAAI/AAAAAAAAHvk/4kcnA5cyAC4/s64/photo.jpg",
      "userId": "01561702845917398436"
     },
     "user_tz": -330
    },
    "id": "NqL9WFAzZoTY",
    "outputId": "c5883403-5c8b-460d-c507-dd057ac7b5a0"
   },
   "outputs": [
    {
     "data": {
      "text/plain": [
       "array([0.32920397, 0.3334092 , 0.31717948, 0.3225874 , 0.32415948])"
      ]
     },
     "execution_count": 56,
     "metadata": {
      "tags": []
     },
     "output_type": "execute_result"
    }
   ],
   "source": [
    "scores"
   ]
  },
  {
   "cell_type": "code",
   "execution_count": 0,
   "metadata": {
    "colab": {},
    "colab_type": "code",
    "id": "lNEA-nsaZIk8"
   },
   "outputs": [],
   "source": [
    "lasso = Lasso(alpha=.01)\n",
    "\n",
    "# Train the model using the training sets\n",
    "lasso.fit(standardized_DF[:, rfe.support_], Y_train) \n",
    "\n",
    "# Predict the values using the model\n",
    "Y_lasso_predict = lasso.predict(standardized_DF[:, rfe.support_])"
   ]
  },
  {
   "cell_type": "code",
   "execution_count": 62,
   "metadata": {
    "colab": {
     "base_uri": "https://localhost:8080/",
     "height": 208
    },
    "colab_type": "code",
    "executionInfo": {
     "elapsed": 878,
     "status": "ok",
     "timestamp": 1544350116996,
     "user": {
      "displayName": "Bhavesh Bhatt",
      "photoUrl": "https://lh5.googleusercontent.com/-Dxy3HXzth_c/AAAAAAAAAAI/AAAAAAAAHvk/4kcnA5cyAC4/s64/photo.jpg",
      "userId": "01561702845917398436"
     },
     "user_tz": -330
    },
    "id": "Cta8DVpa9js9",
    "outputId": "16189c9b-c1d1-4bad-a887-773b835c0909"
   },
   "outputs": [
    {
     "data": {
      "text/plain": [
       "100     0.00\n",
       "101     0.00\n",
       "102     0.00\n",
       "103     0.00\n",
       "104     0.00\n",
       "105     1.51\n",
       "106     0.00\n",
       "107    71.79\n",
       "108    85.81\n",
       "109     3.04\n",
       "Name: bonds_aaa, dtype: float64"
      ]
     },
     "execution_count": 62,
     "metadata": {
      "tags": []
     },
     "output_type": "execute_result"
    }
   ],
   "source": [
    "Y_train[100:110]"
   ]
  },
  {
   "cell_type": "code",
   "execution_count": 63,
   "metadata": {
    "colab": {
     "base_uri": "https://localhost:8080/",
     "height": 52
    },
    "colab_type": "code",
    "executionInfo": {
     "elapsed": 878,
     "status": "ok",
     "timestamp": 1544350118963,
     "user": {
      "displayName": "Bhavesh Bhatt",
      "photoUrl": "https://lh5.googleusercontent.com/-Dxy3HXzth_c/AAAAAAAAAAI/AAAAAAAAHvk/4kcnA5cyAC4/s64/photo.jpg",
      "userId": "01561702845917398436"
     },
     "user_tz": -330
    },
    "id": "btWEfp5y3yik",
    "outputId": "41e566b7-78ba-4e28-d61d-2ccd3ebc8052"
   },
   "outputs": [
    {
     "data": {
      "text/plain": [
       "array([10.32161139,  4.09214701, -3.0142864 ,  9.98770612,  4.66112458,\n",
       "       32.13599847,  7.11215433, 48.33309591, 19.66849238,  5.88300454])"
      ]
     },
     "execution_count": 63,
     "metadata": {
      "tags": []
     },
     "output_type": "execute_result"
    }
   ],
   "source": [
    "Y_lasso_predict[100:110]"
   ]
  },
  {
   "cell_type": "code",
   "execution_count": 0,
   "metadata": {
    "colab": {},
    "colab_type": "code",
    "id": "ME6yTpTe_BkM"
   },
   "outputs": [],
   "source": [
    "def root_mean_square_error(y_pred,y_test):\n",
    "    rmse_train = np.sqrt(np.dot(abs(y_pred-y_test),abs(y_pred-y_test))/len(y_test))\n",
    "    return rmse_train"
   ]
  },
  {
   "cell_type": "code",
   "execution_count": 65,
   "metadata": {
    "colab": {
     "base_uri": "https://localhost:8080/",
     "height": 35
    },
    "colab_type": "code",
    "executionInfo": {
     "elapsed": 955,
     "status": "ok",
     "timestamp": 1544350213026,
     "user": {
      "displayName": "Bhavesh Bhatt",
      "photoUrl": "https://lh5.googleusercontent.com/-Dxy3HXzth_c/AAAAAAAAAAI/AAAAAAAAHvk/4kcnA5cyAC4/s64/photo.jpg",
      "userId": "01561702845917398436"
     },
     "user_tz": -330
    },
    "id": "raV4o2D0cdDQ",
    "outputId": "eeac8db8-2230-4498-e06d-6f4a077ca571"
   },
   "outputs": [
    {
     "data": {
      "text/plain": [
       "20.172257509577697"
      ]
     },
     "execution_count": 65,
     "metadata": {
      "tags": []
     },
     "output_type": "execute_result"
    }
   ],
   "source": [
    "root_mean_square_error(Y_lasso_predict, Y_train)"
   ]
  },
  {
   "cell_type": "code",
   "execution_count": 0,
   "metadata": {
    "colab": {},
    "colab_type": "code",
    "id": "dNuiSAooch9h"
   },
   "outputs": [],
   "source": []
  }
 ],
 "metadata": {
  "colab": {
   "collapsed_sections": [],
   "name": "mutual_funds_GA.ipynb",
   "provenance": [],
   "version": "0.3.2"
  },
  "kernelspec": {
   "display_name": "Python 3",
   "language": "python",
   "name": "python3"
  },
  "language_info": {
   "codemirror_mode": {
    "name": "ipython",
    "version": 3
   },
   "file_extension": ".py",
   "mimetype": "text/x-python",
   "name": "python",
   "nbconvert_exporter": "python",
   "pygments_lexer": "ipython3",
   "version": "3.7.3"
  }
 },
 "nbformat": 4,
 "nbformat_minor": 1
}
